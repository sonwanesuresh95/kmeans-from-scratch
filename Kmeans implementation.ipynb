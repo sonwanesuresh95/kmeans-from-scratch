{
 "cells": [
  {
   "cell_type": "code",
   "execution_count": 1,
   "metadata": {},
   "outputs": [],
   "source": [
    "import numpy as np"
   ]
  },
  {
   "cell_type": "code",
   "execution_count": 2,
   "metadata": {},
   "outputs": [],
   "source": [
    "dataset = [2,3,4,10,11,12,20,25,30]"
   ]
  },
  {
   "cell_type": "code",
   "execution_count": 4,
   "metadata": {},
   "outputs": [],
   "source": [
    "n_clusters = 2"
   ]
  },
  {
   "cell_type": "markdown",
   "metadata": {},
   "source": [
    "Randomly initialize 2 centroids"
   ]
  },
  {
   "cell_type": "code",
   "execution_count": 30,
   "metadata": {},
   "outputs": [],
   "source": [
    "m1 = 4\n",
    "m2 = 12"
   ]
  },
  {
   "cell_type": "markdown",
   "metadata": {},
   "source": [
    "calculate k1 and k2 clusters based on which element is nearest to m1 and m2, iterate over dataset for each element"
   ]
  },
  {
   "cell_type": "markdown",
   "metadata": {},
   "source": [
    "update m1 and m2 again and go calculate k1 and k2"
   ]
  },
  {
   "cell_type": "markdown",
   "metadata": {},
   "source": [
    "repeat until you get same clusters k1 and k2"
   ]
  },
  {
   "cell_type": "markdown",
   "metadata": {},
   "source": [
    "# Pseudocode"
   ]
  },
  {
   "cell_type": "markdown",
   "metadata": {},
   "source": [
    "```\n",
    "while(True):\n",
    "    k1_previous = k1\n",
    "    k2_previous = k2\n",
    "    k1 = []\n",
    "    k2 = []\n",
    "    for val in dataset:\n",
    "        if |m1 - val| < |m2 - val|:\n",
    "            k1.append(val)\n",
    "        else:\n",
    "            k2.append(val)\n",
    "    if k1_previous == k1 and k2_previous == k2:\n",
    "        break\n",
    "    m1 = average(k1)\n",
    "    m2 = average(k2)\n",
    "```"
   ]
  },
  {
   "cell_type": "code",
   "execution_count": 116,
   "metadata": {},
   "outputs": [],
   "source": [
    "def kmeans(dataset):\n",
    "    m1 = 4\n",
    "    m2 = 10\n",
    "    k1 = []\n",
    "    k2 = []\n",
    "    while True:\n",
    "        k1_previous = k1\n",
    "        k2_previous = k2\n",
    "        for val in dataset:\n",
    "            if abs(m1 - val) < abs(m2 - val):\n",
    "                k1.append(val)\n",
    "            else:\n",
    "                k2.append(val)\n",
    "        if k1_previous == k1 and k2_previous == k2:\n",
    "            break\n",
    "        print(\"k1\",k1,\"\\nk2\",k2,\"\\nm1\",m1,\"\\nm2\",m2)\n",
    "        m1 = np.average(k1)\n",
    "        m2 = np.average(k2)\n",
    "    return k1, k2"
   ]
  },
  {
   "cell_type": "code",
   "execution_count": 117,
   "metadata": {},
   "outputs": [
    {
     "data": {
      "text/plain": [
       "([2, 3, 4], [10, 11, 12, 20, 25, 30])"
      ]
     },
     "execution_count": 117,
     "metadata": {},
     "output_type": "execute_result"
    }
   ],
   "source": [
    "kmeans(dataset)"
   ]
  }
 ],
 "metadata": {
  "kernelspec": {
   "display_name": "Python 3",
   "language": "python",
   "name": "python3"
  },
  "language_info": {
   "codemirror_mode": {
    "name": "ipython",
    "version": 3
   },
   "file_extension": ".py",
   "mimetype": "text/x-python",
   "name": "python",
   "nbconvert_exporter": "python",
   "pygments_lexer": "ipython3",
   "version": "3.7.6"
  }
 },
 "nbformat": 4,
 "nbformat_minor": 4
}
